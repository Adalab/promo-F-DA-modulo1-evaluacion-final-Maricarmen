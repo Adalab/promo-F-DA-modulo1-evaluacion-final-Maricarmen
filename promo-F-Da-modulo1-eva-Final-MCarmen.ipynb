{
 "cells": [
  {
   "cell_type": "code",
   "execution_count": 355,
   "metadata": {},
   "outputs": [],
   "source": [
    "#En primer lugar, hay que crear la clase que en este caso se llama TiendaOnlina.\n",
    "\n",
    "\n",
    "class TiendaOnline:\n",
    "    def __init__(self, nombre):\n",
    "        \n",
    "        self.nombre = nombre   \n",
    "        self.inventario = [] # Es una lista vacía, compuesta de productos que cada uno se representan en un diccionario [{nombre:...., precio: ...., cantidad:...}]\n",
    "        self.clientes = {} # Cada cliente se representa en un diccionario: {cliente1: {email:...., compra:[]}}\n",
    "        self.ventas_totales = 0.0 #Controla el registro de las ventas totales de la tienda. \n",
    "           \n",
    "\n",
    "           \n",
    "#El primer método consiste en agregar productos al inventario o actualizar su cantidad.\n",
    "\n",
    "    def agregar_producto_inventario (self, nombre, precio, cantidad):\n",
    "            #En primer lugar, tengo que comprobar que si existe ese producto y si es así actualizar la cantidad\n",
    "        for producto in self.inventario:\n",
    "                #si el producto existe en el inventario\n",
    "            if producto [\"nombre\"] == nombre:\n",
    "                #El siguiente paso es actualizar la cantidad\n",
    "                producto [\"cantidad\"] += cantidad\n",
    "                print (f\"El producto {nombre} se ha actualizado con éxito\")\n",
    "                break\n",
    "            #en el caso del que no haya existecia de ese producto, lo agrego al \"diccionario\"\n",
    "        else: \n",
    "            self.inventario.append({\"nombre\": nombre, \"precio\": precio, \"cantidad\": cantidad})     \n",
    "            print (f\" El '{nombre}'se ha apregado con éxito\")\n",
    "            #Se actualiza el inventario.\n",
    "            return self.inventario\n",
    "\n",
    "# El segundo método consiste en ver el inventario.\n",
    "    def ver_inventario(self):\n",
    "        print(\"A continuación se muestra el inventario de la tienda\")\n",
    "        for producto in self.inventario:\n",
    "            print (f\"Nombre: {producto['nombre']}, Precio: {producto['precio']}, Cantidad: {producto['cantidad']}\")\n",
    "            \n",
    "#El tercer método consiste en buscar un producto por su nombre dentro de mi inventario.\n",
    "\n",
    "    def buscar_producto (self, nombre):\n",
    "        for producto in self.inventario:\n",
    "            if producto [\"nombre\"] == nombre:\n",
    "                return f\"Nombre: {producto['nombre']}, Precio: {producto['precio']}, Cantidad: {producto['cantidad']}\"\n",
    "            \n",
    "#El cuarto método consiste en actualizar el stock de la tienda.\n",
    "    \n",
    "    def actualizar_stock (self, nombre, cantidad):\n",
    "        for producto in self.inventario:\n",
    "            if producto [\"nombre\"] == nombre:\n",
    "               producto [\"cantidad\"] += cantidad\n",
    "               return f\"se ha actualizado el stock del artículo {nombre} y contamos con {producto['cantidad']}\"\n",
    "            else:\n",
    "                return f\"el articulo {nombre} no se encuentra en nuestro inventario\"\n",
    "               \n",
    "# El quinto método consiste en eliminar un producto del inventario por su nombre.\n",
    "    def eliminar_producto(self, nombre):\n",
    "        encontrado = False\n",
    "        for producto in self.inventario:\n",
    "            if producto[\"nombre\"] == nombre:\n",
    "                self.inventario.remove(producto)\n",
    "                encontrado = True\n",
    "                break  # Termina el bucle si se encontró el producto\n",
    "\n",
    "        if encontrado:\n",
    "            print(f\"Hemos eliminado el artículo {nombre} de nuestro inventario\")\n",
    "        else:\n",
    "            print(f\"El producto {nombre} no se encuentra en el inventario\") \n",
    "            \n",
    "# El sexto método consiste en calcular y mostra el valor del inventario.\n",
    "\n",
    "    def calcular_valor_total(self):\n",
    "        valor_total = 0\n",
    "        for producto in self.inventario:\n",
    "            precio = producto[\"precio\"]\n",
    "            cantidad = producto[\"cantidad\"]\n",
    "            valor_total += precio * cantidad\n",
    "\n",
    "        valor_total = round(valor_total, 2)\n",
    "        return f'El valor total del inventario es de {valor_total} euros'\n",
    "    \n",
    "# El séptimo método consiste en buscar productos en el inventario que coincidan con un patrón de búsqueda en formato regex.\n",
    "\n",
    "\n",
    "# El octavo método permite a un cliente hacer compras seleccionando determinados productos del inventario.\n",
    "    \n",
    "    def realizar_compra (self):\n",
    "        self.inventario = []\n",
    "\n",
    "    def agregar_producto(self, nombre, precio, cantidad):\n",
    "        producto = {\"nombre\": nombre, \"precio\": precio, \"cantidad\": cantidad}\n",
    "        self.inventario.append(producto)\n",
    "\n",
    "    def ver_inventario(self):\n",
    "        print(\"Inventario:\")\n",
    "        for producto in self.inventario:\n",
    "            print(f\"{producto['nombre']}: {producto['cantidad']} unidades a {producto['precio']} euros\")\n",
    "\n",
    "    def realizar_compra(self):\n",
    "        self.ver_inventario()\n",
    "        carrito = []\n",
    "        valor_compra_carrito = 0\n",
    "\n",
    "        while True:\n",
    "            intencion_compra = input(\"¿Desea comprar algún producto? (S/N): \").lower()\n",
    "\n",
    "            if intencion_compra == \"n\":\n",
    "                break\n",
    "            elif intencion_compra != \"s\":\n",
    "                print(\"Por favor, seleccione 'S' si su intención es comprar o 'N' para salir.\")\n",
    "                continue\n",
    "\n",
    "            compra_a_realizar = input(\"Indique el nombre del producto que desea comprar (o 'salir' para finalizar la compra): \").lower()\n",
    "\n",
    "            if compra_a_realizar == \"Salir\":\n",
    "                break\n",
    "\n",
    "            producto_seleccionado = None\n",
    "\n",
    "            for producto in self.inventario:\n",
    "                if producto[\"nombre\"] == compra_a_realizar:\n",
    "                    producto_seleccionado = producto\n",
    "                    break\n",
    "\n",
    "            if producto_seleccionado:\n",
    "                cantidad_producto_compra = int(input(f\"¿Qué cantidad desea de {compra_a_realizar}? \"))\n",
    "                if cantidad_producto_compra > producto_seleccionado[\"cantidad\"]:\n",
    "                    print(f\"Solo hay {producto_seleccionado['cantidad']} unidades de {compra_a_realizar} en stock.\")\n",
    "                else:\n",
    "                    valor_producto_compra = producto_seleccionado[\"precio\"] * cantidad_producto_compra\n",
    "                    carrito.append({\"nombre\": compra_a_realizar, \"cantidad\": cantidad_producto_compra, \"precio_unitario\": producto_seleccionado[\"precio\"]})\n",
    "                    valor_compra_carrito += valor_producto_compra\n",
    "                    print(f\"{cantidad_producto_compra} unidades de {compra_a_realizar} agregadas al carrito.\")\n",
    "            else:\n",
    "                print(f\"El producto {compra_a_realizar} no se encuentra en nuestro inventario. Por favor, seleccione otro producto.\")\n",
    "\n",
    "        if carrito:\n",
    "            print(\"Resumen de la compra:\")\n",
    "            for item in carrito:\n",
    "                print(f\"{item['nombre']}: {item['cantidad']} unidades a ${item['precio_unitario']}\")\n",
    "            print(f\"El importe total de la compra es de {valor_compra_carrito} euros\")\n",
    "        else:\n",
    "            print(\"No se ha añadido ningún producto al carrito.\")\n",
    "\n",
    "\n",
    "#El noveno método consiste en procesar el pago de una compra.\n",
    "\n",
    "    def procesar_pago(self):\n",
    "        try:\n",
    "            cantidad_dinero_usuario = float(input(\"Ingrese el dinero que tiene que abonar: \"))\n",
    "        except ValueError:\n",
    "            return \"No se ha podido procesar la operación.Introduzca un valor numérico., gracias\"\n",
    "        \n",
    "        coste_total = 100.0  # Defino el costo total de la compra\n",
    "\n",
    "        cambio = coste_total - cantidad_dinero_usuario\n",
    "\n",
    "        if cambio < 0:\n",
    "            return \"La cantidad de dinero ingresada es insuficiente. No se ha podido efectuar la compra\"\n",
    "        else:\n",
    "            return f'Ha realizado el pago correctamente. Su cambio es de {cambio} euros'\n",
    "\n",
    "#El décimo método consiste en agregar a un nuevo cliente en el registro de clientes.\n",
    "\n",
    "    def agregar_cliente(self, nombre, email):\n",
    "        if nombre not in self.clientes:\n",
    "            self.clientes [nombre] = {\"email\": email, \"compras\": []}\n",
    "            \n",
    "            return f'El nuevo cliente {nombre} se ha agregado a nuestra base de datos'\n",
    "        else:\n",
    "            datos = self.clientes[nombre]\n",
    "            lista_compra = datos.get(\"compras\", [])\n",
    "            return lista_compra\n",
    "        \n",
    "# El método undécimo consiste en mostrar la lista de clientes registrados\n",
    "    def ver_clientes(self):\n",
    "        clientes_registrados = []\n",
    "\n",
    "        for nombre, datos in self.clientes.items():\n",
    "            nombre_cliente = nombre\n",
    "            email_cliente = datos[\"email\"] if \"email\" in datos else \"Correo no especificado\"\n",
    "            compras_cliente = datos[\"compras\"] if \"compras\" in datos else []\n",
    "\n",
    "        cliente_info = {\"Nombre\": nombre_cliente, \"Email\": email_cliente, \"Compras\": compras_cliente}\n",
    "        \n",
    "        clientes_registrados.append(cliente_info)\n",
    "\n",
    "        return clientes_registrados\n",
    "\n",
    "#El método duodécimo consiste en registrar una compra de un cliente y agregar la compra al historial de ventas.\n",
    "\n",
    "    def registrar_compra(self, nombre_cliente, carrito):\n",
    "        if nombre_cliente in self.clientes:\n",
    "            cliente = self.clientes[nombre_cliente]\n",
    "            historial_compras = cliente[\"compras\"]\n",
    "\n",
    "            total_compra = sum(producto[\"precio\"] * producto[\"cantidad\"] for producto in carrito.values())\n",
    "\n",
    "            compra = {\"productos\": carrito, \"total\": total_compra}\n",
    "            historial_compras.append(compra)\n",
    "            self.ventas_totales += total_compra\n",
    "            return f\"La compra de {nombre_cliente} se ha realizado con éxito. Total de la compra: {total_compra} euros\"\n",
    "        else:\n",
    "            return f\"No se puede realizar la compra porque el cliente {nombre_cliente} no está en el resgistro de la tienda.\"\n",
    "\n",
    "#El método decimotercero consiste en mostrar el historial de compras de un cliente.\n",
    "\n",
    "    def ver_compras_cliente(self, nombre_cliente):\n",
    "        if nombre_cliente in self.clientes:\n",
    "            cliente = self.clientes[nombre_cliente]\n",
    "            historial_compras = cliente.get(\"compras\", [])\n",
    "            \n",
    "            print(f\"Historial de compras para {nombre_cliente}):\")\n",
    "        \n",
    "            for i in range(len(historial_compras)):\n",
    "                compra = historial_compras[i]\n",
    "                print(f\"Compra {i + 1}:\")\n",
    "                for producto, detalles in compra[\"productos\"].items():\n",
    "                    print(f\"Producto: {producto}, Precio: {detalles['precio']}€, Cantidad: {detalles['cantidad']}\")\n",
    "                print(f\"Total de la compra: {compra['total']}€\")\n",
    "        else:\n",
    "             print(f\"El cliente {nombre_cliente} no está en el diccionario.\")\n",
    "\n",
    "#El método decimocuarto consiste en mostrar las ventas totales de la tienda.\n",
    "\n",
    "    def calcular_ventas_totales(self):\n",
    "        ventas_totales = 0.0\n",
    "        for cliente in self.clientes.values():\n",
    "            for compra in cliente.get(\"compras\", []):\n",
    "                ventas_totales += compra[\"total\"]\n",
    "\n",
    "        print(f\"Ventas totales de la tienda: {ventas_totales}€\")\n"
   ]
  },
  {
   "cell_type": "code",
   "execution_count": 356,
   "metadata": {},
   "outputs": [],
   "source": [
    "mi_tienda_online = TiendaOnline (\"mi tienda\")"
   ]
  },
  {
   "cell_type": "code",
   "execution_count": 358,
   "metadata": {},
   "outputs": [
    {
     "name": "stdout",
     "output_type": "stream",
     "text": [
      "El producto camisa se ha actualizado con éxito\n",
      "El producto pantalón se ha actualizado con éxito\n",
      "El producto zapatos se ha actualizado con éxito\n",
      "El producto camiseta se ha actualizado con éxito\n"
     ]
    }
   ],
   "source": [
    "mi_tienda_online.agregar_producto_inventario(\"camisa\", 20, 40)\n",
    "mi_tienda_online.agregar_producto_inventario(\"pantalón\", 30, 30)\n",
    "mi_tienda_online.agregar_producto_inventario(\"zapatos\", 50, 40)\n",
    "mi_tienda_online.agregar_producto_inventario(\"camiseta\", 20, 50)"
   ]
  },
  {
   "cell_type": "code",
   "execution_count": 359,
   "metadata": {},
   "outputs": [
    {
     "name": "stdout",
     "output_type": "stream",
     "text": [
      "Inventario:\n",
      "camisa: 80 unidades a 20 euros\n",
      "pantalón: 60 unidades a 30 euros\n",
      "zapatos: 80 unidades a 50 euros\n",
      "camiseta: 100 unidades a 20 euros\n"
     ]
    }
   ],
   "source": [
    "mi_tienda_online.ver_inventario() \n"
   ]
  },
  {
   "cell_type": "code",
   "execution_count": 360,
   "metadata": {},
   "outputs": [
    {
     "data": {
      "text/plain": [
       "'Nombre: camisa, Precio: 20, Cantidad: 80'"
      ]
     },
     "execution_count": 360,
     "metadata": {},
     "output_type": "execute_result"
    }
   ],
   "source": [
    "mi_tienda_online.buscar_producto(\"traje\")\n",
    "mi_tienda_online.buscar_producto(\"reloj\")\n",
    "mi_tienda_online.buscar_producto (\"camisa\")"
   ]
  },
  {
   "cell_type": "code",
   "execution_count": 361,
   "metadata": {},
   "outputs": [
    {
     "data": {
      "text/plain": [
       "'el articulo reloj no se encuentra en nuestro inventario'"
      ]
     },
     "execution_count": 361,
     "metadata": {},
     "output_type": "execute_result"
    }
   ],
   "source": [
    "mi_tienda_online.actualizar_stock (\"reloj\", 7)"
   ]
  },
  {
   "cell_type": "code",
   "execution_count": 362,
   "metadata": {},
   "outputs": [
    {
     "data": {
      "text/plain": [
       "'se ha actualizado el stock del artículo camisa y contamos con 84'"
      ]
     },
     "execution_count": 362,
     "metadata": {},
     "output_type": "execute_result"
    }
   ],
   "source": [
    "mi_tienda_online.actualizar_stock(\"camisa\", 4)"
   ]
  },
  {
   "cell_type": "code",
   "execution_count": 363,
   "metadata": {},
   "outputs": [
    {
     "name": "stdout",
     "output_type": "stream",
     "text": [
      "Hemos eliminado el artículo camisa de nuestro inventario\n"
     ]
    }
   ],
   "source": [
    "mi_tienda_online.eliminar_producto(\"camisa\")"
   ]
  },
  {
   "cell_type": "code",
   "execution_count": 364,
   "metadata": {},
   "outputs": [
    {
     "name": "stdout",
     "output_type": "stream",
     "text": [
      "El producto pijama no se encuentra en el inventario\n"
     ]
    }
   ],
   "source": [
    "mi_tienda_online.eliminar_producto (\"pijama\")"
   ]
  },
  {
   "cell_type": "code",
   "execution_count": 365,
   "metadata": {},
   "outputs": [
    {
     "data": {
      "text/plain": [
       "'El valor total del inventario es de 7800 euros'"
      ]
     },
     "execution_count": 365,
     "metadata": {},
     "output_type": "execute_result"
    }
   ],
   "source": [
    "mi_tienda_online.calcular_valor_total()"
   ]
  },
  {
   "cell_type": "code",
   "execution_count": 37,
   "metadata": {},
   "outputs": [
    {
     "name": "stdout",
     "output_type": "stream",
     "text": [
      "Inventario:\n",
      "pantalón: 60 unidades a 30 euros\n",
      "zapatos: 80 unidades a 50 euros\n",
      "camiseta: 100 unidades a 20 euros\n",
      "3 unidades de pantalón agregadas al carrito.\n",
      "2 unidades de zapatos agregadas al carrito.\n",
      "Resumen de la compra:\n",
      "pantalón: 3 unidades a $30 c/u\n",
      "zapatos: 2 unidades a $50 c/u\n",
      "El importe total de la compra es de 190\n"
     ]
    }
   ],
   "source": [
    "mi_tienda_online.realizar_compra ()"
   ]
  },
  {
   "cell_type": "code",
   "execution_count": 366,
   "metadata": {},
   "outputs": [
    {
     "data": {
      "text/plain": [
       "'Ha realizado el pago correctamente. Su cambio es de 0.0 euros'"
      ]
     },
     "execution_count": 366,
     "metadata": {},
     "output_type": "execute_result"
    }
   ],
   "source": [
    "mi_tienda_online.procesar_pago()"
   ]
  },
  {
   "cell_type": "code",
   "execution_count": 367,
   "metadata": {},
   "outputs": [
    {
     "data": {
      "text/plain": [
       "'El nuevo cliente Cristina se ha agregado a nuestra base de datos'"
      ]
     },
     "execution_count": 367,
     "metadata": {},
     "output_type": "execute_result"
    }
   ],
   "source": [
    "mi_tienda_online.agregar_cliente (\"Juan\", \"japr@gmail.com\")\n",
    "mi_tienda_online.agregar_cliente (\"Roberto\", \"robert@gmail.com\")\n",
    "mi_tienda_online.agregar_cliente (\"Andrea\", \"andrea@gmail,com\")\n",
    "mi_tienda_online.agregar_cliente (\"Cristina\", \"Cristina@gmail,com\")"
   ]
  },
  {
   "cell_type": "code",
   "execution_count": 368,
   "metadata": {},
   "outputs": [
    {
     "data": {
      "text/plain": [
       "[{'Nombre': 'Cristina', 'Email': 'Cristina@gmail,com', 'Compras': []}]"
      ]
     },
     "execution_count": 368,
     "metadata": {},
     "output_type": "execute_result"
    }
   ],
   "source": [
    "mi_tienda_online.ver_clientes()"
   ]
  },
  {
   "cell_type": "code",
   "execution_count": 369,
   "metadata": {},
   "outputs": [
    {
     "data": {
      "text/plain": [
       "'La compra de Juan se ha realizado con éxito. Total de la compra: 30 euros'"
      ]
     },
     "execution_count": 369,
     "metadata": {},
     "output_type": "execute_result"
    }
   ],
   "source": [
    "carrito_Cristina = {\"pantalón\": {\"precio\":30, \"cantidad\": 3}, \"camiseta\":{\"precio\": 10, \"cantidad\":5}}\n",
    "carrito_Juan = {\"camisa\": {\"precio\": 15, \"cantidad\": 2}}\n",
    "mi_tienda_online.registrar_compra(\"Cristina\", carrito_Cristina)\n",
    "mi_tienda_online.registrar_compra (\"Juan\",carrito_Juan )"
   ]
  },
  {
   "cell_type": "code",
   "execution_count": 370,
   "metadata": {},
   "outputs": [
    {
     "name": "stdout",
     "output_type": "stream",
     "text": [
      "Historial de compras para Cristina):\n",
      "Compra 1:\n",
      "Producto: pantalón, Precio: 30€, Cantidad: 3\n",
      "Producto: camiseta, Precio: 10€, Cantidad: 5\n",
      "Total de la compra: 140€\n",
      "El cliente Marcos no está en el diccionario.\n",
      "Historial de compras para Juan):\n",
      "Compra 1:\n",
      "Producto: camisa, Precio: 15€, Cantidad: 2\n",
      "Total de la compra: 30€\n"
     ]
    }
   ],
   "source": [
    "mi_tienda_online.ver_compras_cliente (\"Cristina\")\n",
    "\n",
    "mi_tienda_online.ver_compras_cliente (\"Marcos\")\n",
    "\n",
    "mi_tienda_online.ver_compras_cliente (\"Juan\")\n"
   ]
  },
  {
   "cell_type": "code",
   "execution_count": 371,
   "metadata": {},
   "outputs": [
    {
     "name": "stdout",
     "output_type": "stream",
     "text": [
      "Ventas totales de la tienda: 170.0€\n"
     ]
    }
   ],
   "source": [
    "mi_tienda_online.calcular_ventas_totales()"
   ]
  }
 ],
 "metadata": {
  "kernelspec": {
   "display_name": "base",
   "language": "python",
   "name": "python3"
  },
  "language_info": {
   "codemirror_mode": {
    "name": "ipython",
    "version": 3
   },
   "file_extension": ".py",
   "mimetype": "text/x-python",
   "name": "python",
   "nbconvert_exporter": "python",
   "pygments_lexer": "ipython3",
   "version": "3.9.7"
  }
 },
 "nbformat": 4,
 "nbformat_minor": 2
}
