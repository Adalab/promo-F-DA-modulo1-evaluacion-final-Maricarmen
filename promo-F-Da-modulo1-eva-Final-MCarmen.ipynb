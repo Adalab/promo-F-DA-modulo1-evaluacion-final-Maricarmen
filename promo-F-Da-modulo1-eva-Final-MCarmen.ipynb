{
 "cells": [
  {
   "cell_type": "code",
   "execution_count": 30,
   "metadata": {},
   "outputs": [],
   "source": [
    "#En primer lugar, hay que crear la clase que en este caso se llama TiendaOnlina.\n",
    "\n",
    "\n",
    "class TiendaOnline:\n",
    "    def __init__(self, nombre):\n",
    "        \n",
    "        self.nombre = nombre   \n",
    "        self.inventario = [] # Es una lista vacía, compuesta de productos que cada uno se representan en un diccionario [{nombre:...., precio: ...., cantidad:...}]\n",
    "        self.clientes = {} # Cada cliente se representa en un diccionario: {cliente1: {email:...., compra:[]}}\n",
    "        self.ventas_totales = 0.0 #Controla el registro de las ventas totales de la tienda. \n",
    "           \n",
    "\n",
    "           \n",
    "#El primer método consiste en agregar productos al inventario o actualizar su cantidad.\n",
    "\n",
    "    def agregar_producto_inventario (self, nombre, precio, cantidad):\n",
    "            #En primer lugar, tengo que comprobar que si existe ese producto y si es así actualizar la cantidad\n",
    "        for producto in self.inventario:\n",
    "                #si el producto existe en el inventario\n",
    "            if producto [\"nombre\"] == nombre:\n",
    "                #El siguiente paso es actualizar la cantidad\n",
    "                producto [\"cantidad\"] += cantidad\n",
    "                print (f\"El producto {nombre} se ha actualizado con éxito\")\n",
    "                break\n",
    "            #en el caso del que no haya existecia de ese producto, lo agrego al \"diccionario\"\n",
    "        else: \n",
    "            self.inventario.append({\"nombre\": nombre, \"precio\": precio, \"cantidad\": cantidad})     \n",
    "            print (f\" El '{nombre}'se ha apregado con éxito\")\n",
    "            #Se actualiza el inventario.\n",
    "            return self.inventario\n",
    "\n",
    "# El segundo método consiste en ver el inventario.\n",
    "    def ver_inventario(self):\n",
    "        print(\"A continuación se muestra el inventario de la tienda\")\n",
    "        for producto in self.inventario:\n",
    "            print (f\"Nombre: {producto['nombre']}, Precio: {producto['precio']}, Cantidad: {producto['cantidad']}\")\n",
    "            \n",
    "#El tercer método consiste en buscar un producto por su nombre dentro de mi inventario.\n",
    "\n",
    "    def buscar_producto (self, nombre):\n",
    "        for producto in self.inventario:\n",
    "            if producto [\"nombre\"] == nombre:\n",
    "                return f\"Nombre: {producto['nombre']}, Precio: {producto['precio']}, Cantidad: {producto['cantidad']}\"\n",
    "            \n",
    "#El cuarto método consiste en actualizar el stock de la tienda.\n",
    "    \n",
    "    def actualizar_stock (self, nombre, cantidad):\n",
    "        for producto in self.inventario:\n",
    "            if producto [\"nombre\"] == nombre:\n",
    "               producto [\"cantidad\"] += cantidad\n",
    "               return f\"se ha actualizado el stock del artículo {nombre} y contamos con {producto['cantidad']}\"\n",
    "            else:\n",
    "                return f\"el articulo {nombre} no se encuentra en nuestro inventario\"\n",
    "               \n",
    "# El quinto método consiste en eliminar un producto del inventario por su nombre.\n",
    "    def eliminar_producto(self, nombre):\n",
    "        encontrado = False\n",
    "        for producto in self.inventario:\n",
    "            if producto[\"nombre\"] == nombre:\n",
    "                self.inventario.remove(producto)\n",
    "                encontrado = True\n",
    "                break  # Termina el bucle si se encontró el producto\n",
    "\n",
    "        if encontrado:\n",
    "            print(f\"Hemos eliminado el artículo {nombre} de nuestro inventario\")\n",
    "        else:\n",
    "            print(f\"El producto {nombre} no se encuentra en el inventario\") \n",
    "            \n",
    "# El sexto método consiste en calcular y mostra el valor del inventario.\n",
    "\n",
    "    def calcular_valor_total(self):\n",
    "        valor_total = 0\n",
    "        for producto in self.inventario:\n",
    "            precio = producto[\"precio\"]\n",
    "            cantidad = producto[\"cantidad\"]\n",
    "            valor_total += precio * cantidad\n",
    "\n",
    "        valor_total = round(valor_total, 2)\n",
    "        return f'El valor total del inventario es de {valor_total} euros'\n",
    "    \n",
    "# El séptimo método consiste en buscar productos en el inventario que coincidan con un patrón de búsqueda en formato regex.\n",
    "\n",
    "\n",
    "# El octavo método permite a un cliente hacer compras seleccionando determinados productos del inventario.\n",
    "\n",
    "    def realizar_compra(self):\n",
    "        self.ver_inventario()\n",
    "        \n",
    "        carrito = []\n",
    "        valor_compra_carrito = 0\n",
    "\n",
    "    while True:\n",
    "        intencion_compra = input(\"¿Desea comprar algún producto? (S/N): \").lower()\n",
    "        \n",
    "        if intencion_compra != \"s\":\n",
    "            if intencion_compra != \"n\":\n",
    "                print(\"Por favor, seleccione 'S' si su intención es comprar o 'N' para salir.\")\n",
    "                continue\n",
    "            else:\n",
    "                break\n",
    "\n",
    "        while True:\n",
    "            compra_a_realizar = input(\"Indique el nombre del producto que desea comprar (o 'salir' para finalizar la compra): \").lower()\n",
    "\n",
    "            if compra_a_realizar == \"Salir\":\n",
    "            break\n",
    "\n",
    "            producto_seleccionado = None\n",
    "\n",
    "            for producto in self.inventario:\n",
    "                if producto [\"nombre\"] == compra_a_realizar:\n",
    "                    producto_seleccionado = producto\n",
    "                    break\n",
    "\n",
    "            if producto_seleccionado:\n",
    "                cantidad_producto_compra = int(input(f\"¿Qué cantidad desea de {compra_a_realizar}? \"))\n",
    "                if cantidad_producto_compra > producto_seleccionado[\"cantidad\"]:\n",
    "                    print(f\"Lo sentimos, solo hay {producto_seleccionado['cantidad']} unidades de {compra_a_realizar} en stock.\")\n",
    "                else:\n",
    "                    valor_producto_compra = producto_seleccionado[\"precio\"] * cantidad_producto_compra\n",
    "                    carrito.append({\"nombre\": compra_a_realizar, \"cantidad\": cantidad_producto_compra, \"precio_unitario\": producto_seleccionado[\"precio\"]})\n",
    "                    valor_compra_carrito += valor_producto_compra\n",
    "                    print(f\"{cantidad_producto_compra} unidades de {compra_a_realizar} agregadas al carrito.\")\n",
    "\n",
    "        else:\n",
    "            print(f\"El producto {compra_a_realizar} no se encuentra en nuestro inventario. Por favor, seleccione otro producto.\")\n",
    "\n",
    "    if carrito:\n",
    "            print(f\"Resumen de la compra:\")\n",
    "            for item in carrito:\n",
    "                print(f\"{item['nombre']}: {item['cantidad']} unidades a ${item['precio_unitario']} c/u\")\n",
    "        print(f\"Valor total de la compra: ${valor_compra_carrito}\")\n",
    "    else:\n",
    "        print(\"No se han agregado productos al carrito.\")\n",
    "\n",
    "\n",
    "\n",
    "\n",
    "\n",
    "\n",
    "\n",
    "                              "
   ]
  },
  {
   "cell_type": "code",
   "execution_count": 17,
   "metadata": {},
   "outputs": [],
   "source": [
    "mi_tienda_online = TiendaOnline (\"mi tienda\")"
   ]
  },
  {
   "cell_type": "code",
   "execution_count": 19,
   "metadata": {},
   "outputs": [
    {
     "name": "stdout",
     "output_type": "stream",
     "text": [
      "El producto camisa se ha actualizado con éxito\n",
      "El producto pantalón se ha actualizado con éxito\n",
      "El producto zapatos se ha actualizado con éxito\n",
      "El producto camiseta se ha actualizado con éxito\n"
     ]
    }
   ],
   "source": [
    "mi_tienda_online.agregar_producto_inventario(\"camisa\", 20, 40)\n",
    "mi_tienda_online.agregar_producto_inventario(\"pantalón\", 30, 30)\n",
    "mi_tienda_online.agregar_producto_inventario(\"zapatos\", 50, 40)\n",
    "mi_tienda_online.agregar_producto_inventario(\"camiseta\", 20, 50)"
   ]
  },
  {
   "cell_type": "code",
   "execution_count": 20,
   "metadata": {},
   "outputs": [
    {
     "name": "stdout",
     "output_type": "stream",
     "text": [
      "A continuación se muestra el inventario de la tienda\n",
      "Nombre: camisa, Precio: 20, Cantidad: 80\n",
      "Nombre: pantalón, Precio: 30, Cantidad: 60\n",
      "Nombre: zapatos, Precio: 50, Cantidad: 80\n",
      "Nombre: camiseta, Precio: 20, Cantidad: 100\n"
     ]
    }
   ],
   "source": [
    "mi_tienda_online.ver_inventario() \n"
   ]
  },
  {
   "cell_type": "code",
   "execution_count": 21,
   "metadata": {},
   "outputs": [
    {
     "data": {
      "text/plain": [
       "'Nombre: camisa, Precio: 20, Cantidad: 80'"
      ]
     },
     "execution_count": 21,
     "metadata": {},
     "output_type": "execute_result"
    }
   ],
   "source": [
    "mi_tienda_online.buscar_producto(\"traje\")\n",
    "mi_tienda_online.buscar_producto(\"reloj\")\n",
    "mi_tienda_online.buscar_producto (\"camisa\")"
   ]
  },
  {
   "cell_type": "code",
   "execution_count": 22,
   "metadata": {},
   "outputs": [
    {
     "data": {
      "text/plain": [
       "'el articulo reloj no se encuentra en nuestro inventario'"
      ]
     },
     "execution_count": 22,
     "metadata": {},
     "output_type": "execute_result"
    }
   ],
   "source": [
    "mi_tienda_online.actualizar_stock (\"reloj\", 7)"
   ]
  },
  {
   "cell_type": "code",
   "execution_count": 23,
   "metadata": {},
   "outputs": [
    {
     "data": {
      "text/plain": [
       "'se ha actualizado el stock del artículo camisa y contamos con 84'"
      ]
     },
     "execution_count": 23,
     "metadata": {},
     "output_type": "execute_result"
    }
   ],
   "source": [
    "mi_tienda_online.actualizar_stock(\"camisa\", 4)"
   ]
  },
  {
   "cell_type": "code",
   "execution_count": 24,
   "metadata": {},
   "outputs": [
    {
     "name": "stdout",
     "output_type": "stream",
     "text": [
      "Hemos eliminado el artículo camisa de nuestro inventario\n"
     ]
    }
   ],
   "source": [
    "mi_tienda_online.eliminar_producto(\"camisa\")"
   ]
  },
  {
   "cell_type": "code",
   "execution_count": 25,
   "metadata": {},
   "outputs": [
    {
     "name": "stdout",
     "output_type": "stream",
     "text": [
      "El producto pijama no se encuentra en el inventario\n"
     ]
    }
   ],
   "source": [
    "mi_tienda_online.eliminar_producto (\"pijama\")"
   ]
  },
  {
   "cell_type": "code",
   "execution_count": 26,
   "metadata": {},
   "outputs": [
    {
     "data": {
      "text/plain": [
       "'El valor total del inventario es de 7800 euros'"
      ]
     },
     "execution_count": 26,
     "metadata": {},
     "output_type": "execute_result"
    }
   ],
   "source": [
    "mi_tienda_online.calcular_valor_total()"
   ]
  },
  {
   "cell_type": "code",
   "execution_count": null,
   "metadata": {},
   "outputs": [],
   "source": [
    "def realizar_compra (self):\n",
    "        self.ver_inventario()\n",
    "        carrito = []\n",
    "        valor_compra_carrito =0\n",
    "        pregunta = \"s\"\n",
    "        while True:\n",
    "            intencion_compra = input (\"¿va a comprar alguno de nuestros productos? (S/N)\")\n",
    "            if intencion_compra != \"s\":\n",
    "                if intencion_compra != \"n\":\n",
    "                    print (\"por favor, seleccione'S'si su intención es comprar\")\n",
    "                    continue\n",
    "                else:\n",
    "                    break\n",
    "        compra_a_realizar = input (\"indica el nombre del producto que quiere\")\n",
    "        \n",
    "        producto_seleccionado = None\n",
    "        \n",
    "        for producto in self.inventario:\n",
    "            if producto [\"nombre\"] == compra_a_realizar:\n",
    "                producto_seleccionado = producto\n",
    "                break\n",
    "            if producto_seleccionado:\n",
    "                cantidad_producto_compra = int (input(f\"¿qué cantidad quieres {compra_a_realizar}\"))\n",
    "                if cantidad_producto_compra > producto_seleccionado [\"cantidad\"]:\n",
    "                    print (f\"Solo hay {producto_seleccionado ['cantidad']} de items de {compra_a_realizar} en nuestra tienda.\") \n",
    "                \n",
    "                else:\n",
    "                    valor_producto_compra = producto_seleccionado [\"precio\"] * cantidad_producto_compra\n",
    "                    valor_compra_carrito += valor_producto_compra\n",
    "                    carrito.append(producto_seleccionado [\"nombre\"], cantidad_producto_compra)\n",
    "                    print (f\"En tu carrito tienes {cantidad_producto_compra} de {compra_a_realizar} la cuantía de tu compra es de {valor_compra_carrito}\")\n",
    "            else:\n",
    "                print (f\"no hay ese item {compra_a_realizar} en nuestro inventario\")\n",
    "        if carrito:\n",
    "            for producto, cantidad in carrito:\n",
    "                print (f\"{cantidad} {producto}\")\n",
    "            print (\"el importe total de la compra es de {valor_compra_carrito}\")\n",
    "        else:\n",
    "            print (\"No se ha añadido ningún itam al carrito\")"
   ]
  }
 ],
 "metadata": {
  "kernelspec": {
   "display_name": "base",
   "language": "python",
   "name": "python3"
  },
  "language_info": {
   "codemirror_mode": {
    "name": "ipython",
    "version": 3
   },
   "file_extension": ".py",
   "mimetype": "text/x-python",
   "name": "python",
   "nbconvert_exporter": "python",
   "pygments_lexer": "ipython3",
   "version": "3.9.7"
  }
 },
 "nbformat": 4,
 "nbformat_minor": 2
}
