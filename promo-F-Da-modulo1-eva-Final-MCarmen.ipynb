{
 "cells": [
  {
   "cell_type": "code",
   "execution_count": 33,
   "metadata": {},
   "outputs": [],
   "source": [
    "#En primer lugar, hay que crear la clase que en este caso se llama TiendaOnlina.\n",
    "\n",
    "\n",
    "class TiendaOnline:\n",
    "    def __init__(self, nombre): #Una vez creada la clase, con este método especial se inicializan los atributos.\n",
    "        \n",
    "        self.nombre = nombre   #El self. es lo que definelos atributos dentro del método.\n",
    "        self.inventario = [] # Es una lista vacía, compuesta de productos que cada uno se representan en un diccionario [{nombre: zapatos, precio: 40, cantidad: 30}]\n",
    "        self.clientes = {} # Cada cliente se representa en un diccionario: {cliente1: {email: rosa@gmail.como, compra:[]}}\n",
    "        self.ventas_totales = 0.0 #Controla el registro de las ventas totales de la tienda. Estas ventas comienzan en cero.\n",
    "           \n",
    "\n",
    "           \n",
    "#El primer método consiste en agregar productos al inventario o actualizar su cantidad.\n",
    "\n",
    "    def agregar_producto_inventario (self, nombre, precio, cantidad):\n",
    "            #En primer lugar, tengo que comprobar que si existe ese producto y si es así actualizar la cantidad\n",
    "        for producto in self.inventario:\n",
    "                #si el producto existe en el inventario\n",
    "            if producto [\"nombre\"] == nombre: # De esta manera se puede acceder al valor de la clave nombre y el nombre es el argumento de este método que representa el nombre del producto a agregar o a actualizar\n",
    "                #El siguiente paso es actualizar la cantidad\n",
    "                producto [\"cantidad\"] += cantidad #Se actualiza la cantidad del producto que existe.\n",
    "                print (f\"El producto {nombre} se ha actualizado en nuestro inventario con éxito\")\n",
    "                break #Para dejar de buscar más productos con el mismo nombre.\n",
    "            #en el caso del que no haya existencia de ese producto, lo agrego al \"diccionario\"\n",
    "        else: \n",
    "            self.inventario.append({\"nombre\": nombre, \"precio\": precio, \"cantidad\": cantidad})  #Se crea un nuevo diccionario que representa a un nuevo producto con las claves ya determinadas. \n",
    "            print (f\" El '{nombre}'se ha apregado a nuestro inventario con éxito\")                                  #Append, agrega este nuevo diccionarioal inventario.\n",
    "            #Devuelve el diccionario actualizado. \n",
    "            return self.inventario\n",
    "\n",
    "# El segundo método consiste en ver el inventario.\n",
    "    def ver_inventario(self):\n",
    "        print(\"Ya puede consultar el inventario de nuestra tienda\") #el usuario sabe que puede consultar nuestro inventario\n",
    "        for producto in self.inventario: #Con este bucle se recorre cada producto del diccionario que es una lista de diccionarios donde cada diccionario es un producto con su nombre, precio y cantidad.\n",
    "            print (f\"Nombre: {producto['nombre']}, Precio: {producto['precio']}, Cantidad: {producto['cantidad']}\") #Muestra la información de todos los productos porqeu va iterando por ellos.\n",
    "            \n",
    "#El tercer método consiste en buscar un producto por su nombre dentro de mi inventario.\n",
    "\n",
    "    def buscar_producto (self, nombre): #El método toma dos parámetros: self y el nombre del producto que se quiere buscar.\n",
    "        for producto in self.inventario: #Itera a través de cada producto de la lista porque en self.inventario es un atributode instancia que almacena el inventario de productos de la tienda.\n",
    "            if producto [\"nombre\"] == nombre: #Si se encuentra el producto con el nombre que buscamos se ejecuta el siguiente bloque de código.\n",
    "                return f\"Nombre: {producto['nombre']}, Precio: {producto['precio']}, Cantidad: {producto['cantidad']}\" #Nos devuelve el producto con detalle. Si no está el producto con el nombre dado, daría NONE.\n",
    "            \n",
    "#El cuarto método consiste en actualizar el stock de la tienda.\n",
    "    \n",
    "    def actualizar_stock (self, nombre, cantidad): #El método cuenta con tres parámetros: self, nombre y cantidad.\n",
    "        for producto in self.inventario: #Este bucle for itera a través de cada producto en self.inventario\n",
    "            if producto [\"nombre\"] == nombre: #Esta condicional la uso para ver si se encuentra el producto con el nombre deseado.\n",
    "               producto [\"cantidad\"] += cantidad #Si el producto está se agrega la cantidad proporcionada y se actualiza el stock del artículo.\n",
    "               return f\"se ha actualizado con éxito el stock del artículo {nombre} y contamos con {producto['cantidad']}\"\n",
    "            else:\n",
    "                return f\"el articulo {nombre} no apaerece reflejado en nuestro inventario\" #si no esxste el producto, nos devuelve el siguiente mensaje.\n",
    "               \n",
    "# El quinto método consiste en eliminar un producto del inventario por su nombre.\n",
    "    def eliminar_producto(self, nombre):\n",
    "        encontrado = False #Es una variable que se usa para llevar un seguimiento de si se encuentra o no el producto.\n",
    "        for producto in self.inventario:\n",
    "            if producto[\"nombre\"] == nombre: #Una vez más se usa para verificar si el nombre del producto coincide con el nombre\n",
    "                self.inventario.remove(producto) #Si se encuentre se elimina con remove. \n",
    "                encontrado = True # Se establece la variable encontrado para indicar que se ha encontrado.\n",
    "                break  # Termina el bucle si se encontró  y elimino el producto deseado. Se termina con el bucle.\n",
    "\n",
    "        if encontrado: #Después de salir del bucle, se verifica que encontrado es True, por lo tanto, se imprime el mensaje indicado abajo.\n",
    "            print(f\"Hemos eliminado el artículo {nombre} de nuestro inventario\")\n",
    "        else:\n",
    "            print(f\"El producto {nombre} no se encuentra en el inventario\") # En else se imprime si no se ha encontrado el producto.\n",
    "            \n",
    "# El sexto método consiste en calcular y mostra el valor del inventario.\n",
    "\n",
    "    def calcular_valor_total(self):\n",
    "        valor_total = 0 # Esta variable se usa para realizar el cálculo del valor total del inventario.\n",
    "        for producto in self.inventario: #Una vez más uso este bucle for...\n",
    "            precio = producto[\"precio\"] #Dentro del bucle accedo a la clave precio en el diccionario del producto.\n",
    "            cantidad = producto[\"cantidad\"] #Dentro del bucle accedo a la clave cantidad del diccionario del producto.\n",
    "            valor_total += precio * cantidad # Se calcula el valor total de producto multiplicando el precio por la cantidad, y se agrega al valor total acumulado.\n",
    "\n",
    "        valor_total = round(valor_total, 2) #Se calcula el valor total y se redondea dos decimales utilizando al función round.\n",
    "        return f'El valor total del inventario es de {valor_total} euros'\n",
    "    \n",
    "# El séptimo método consiste en buscar productos en el inventario que coincidan con un patrón de búsqueda en formato regex.\n",
    "\n",
    "      #El séptimo método voy a intentar desarrollarlo pero fuera de la Clase porque no quiero que me dificulte la función de los métodos restantes. Lo voy a colocar al final del jupiter.\n",
    "\n",
    "# El octavo método permite a un cliente hacer compras seleccionando determinados productos del inventario y añadirlos al carrito de la compra.\n",
    "    \n",
    "\n",
    "    def realizar_compra(self):\n",
    "        self.ver_inventario() #En primer lugar, el cliente tiene que consultar el inventario de la tienda.\n",
    "        carrito = [] #El carrito está vacío\n",
    "        valor_compra_carrito = 0 #Gracias a esta variable nos muestra el valor total de los productos al final.\n",
    "\n",
    "        while True:  #Se utiliza un bucle para agregar los productos que el cliente desea comprar hasta que decida dar por terminada la compra.\n",
    "            intencion_compra = input(\"¿Desea comprar algún producto de nuestra tienda? (S/N): \").lower() #Si el cliente responde NO (N) el bucle se rompe y la compra termina.\n",
    "\n",
    "            if intencion_compra == \"n\": #El bucle se rompe.\n",
    "                break\n",
    "            elif intencion_compra != \"s\":\n",
    "                print(\"Por favor, seleccione 'S' si su intención es comprar o 'N' para salir.\")\n",
    "                continue\n",
    "\n",
    "            compra_a_realizar = input(\"Indique el nombre del producto que desea comprar (o 'salir' para finalizar la compra): \").lower() #Con este input el cliente pide lo que quiere.\n",
    "\n",
    "            if compra_a_realizar == \"Salir\": #Después de comprar algunos productos, el cliente deja de comprar en algún momento. El bucle se para.\n",
    "                break\n",
    "\n",
    "            producto_seleccionado = None #Almacena los productos que el cliente quiere comprar.\n",
    "\n",
    "            for producto in self.inventario: #A partir de aquí se inica un bucle que recorre cada producto del inventario.\n",
    "                if producto[\"nombre\"] == compra_a_realizar: #Se verifica si el nombre del producto coincide con lo que el cliente quiere comprar. Si es así se inicia la compra-\n",
    "                    producto_seleccionado = producto #Si el producto coincide con el nombre, se almacena la información del producto.\n",
    "                    break #Se rompe el bucle para evitar procesar productos adicionales.\n",
    "\n",
    "            if producto_seleccionado: #Si el producto seleccionado está en el inventario, comienza la compra.\n",
    "                cantidad_producto_compra = int(input(f\"¿Qué cantidad desea de {compra_a_realizar}? \")) #Se le pregunta cuánta cantidad de producto quiere comprar y se almacena la información.\n",
    "                if cantidad_producto_compra > producto_seleccionado[\"cantidad\"]: # Si la cantidad que desea el cliente es mayor que el stock, no se agrega al carrito.\n",
    "                    print(f\"Solo hay {producto_seleccionado['cantidad']} unidades de {compra_a_realizar} en stock.\")\n",
    "                else:\n",
    "                    valor_producto_compra = producto_seleccionado[\"precio\"] * cantidad_producto_compra #Si la cantidad deseada es posible de comprar, se multiplica el precio del producto por la cantidad.\n",
    "                    carrito.append({\"nombre\": compra_a_realizar, \"cantidad\": cantidad_producto_compra, \"precio_unitario\": producto_seleccionado[\"precio\"]}) #El producto se agrega al carrito en forma de diccionario.\n",
    "                    valor_compra_carrito += valor_producto_compra #El valor de la compra del producto se suma al total del carrito.\n",
    "                    print(f\"{cantidad_producto_compra} unidades de {compra_a_realizar} agregadas al carrito.\")\n",
    "            else:\n",
    "                print(f\"El producto {compra_a_realizar} no se encuentra en nuestro inventario. Por favor, seleccione otro producto.\") #Si no hay el producto en el inventario.\n",
    "\n",
    "        if carrito:\n",
    "            print(\"Extracto de la compra:\")  #Se muestra cuando ya el cliente ya ha agragado todos los productos\n",
    "            for item in carrito:\n",
    "                print(f\"{item['nombre']}: {item['cantidad']} unidades a {item['precio_unitario']} euros\") #Se añade cada uno de los artículos al carrito.\n",
    "            print(f\"El importe total de la compra es de {valor_compra_carrito} euros\")\n",
    "        else:\n",
    "            print(\"No se ha añadido ningún producto al carrito.\") #Si el cliente no compró nada.\n",
    "\n",
    "\n",
    "#El noveno método consiste en procesar el pago de una compra.\n",
    "\n",
    "    def procesar_pago(self): \n",
    "        try:  #Se inicia un bloque de código que puede dar una excepción.\n",
    "            cantidad_dinero_usuario = float(input(\"Ingrese el dinero que tiene que abonar: \")) #Tiene que ingresar una cantidad determinada, Es un valor flotante y se ingresa en una variabñe.\n",
    "        except ValueError: #Se da si el usuario ingresa un valor que no es un flotante.\n",
    "            return \"No se ha podido procesar la operación. Introduzca un valor numérico, gracias\"\n",
    "        \n",
    "        coste_total = 100.0  # Defino el costo total de la compra\n",
    "\n",
    "        cambio = coste_total - cantidad_dinero_usuario # Se calcula el cambio restando la acntidad de dinero que ingresó el usuario al importe total de la compra.\n",
    "\n",
    "        if cambio < 0: # Si el cambio es menor de cero, el cliente debe dinero.\n",
    "            return \"La cantidad de dinero ingresada es insuficiente. No se ha podido efectuar la compra\"\n",
    "        else:\n",
    "            return f'Ha realizado el pago correctamente. Su cambio es de {cambio} euros' #En caso contrario, el pago se realiza correctamente y se le devuelve el dinero si fuera necesario.\n",
    "\n",
    "#El décimo método consiste en agregar a un nuevo cliente en el registro de clientes.\n",
    "\n",
    "    def agregar_cliente(self, nombre, email): #Toma dos argumentos: el nombre y el email del cliente.\n",
    "        if nombre not in self.clientes: #Si el nombre no está en el diccionario, se procede a agregar el cliente.\n",
    "            self.clientes [nombre] = {\"email\": email, \"compras\": []} # Se agrega un nuevo cliente al diccionario con su nombre, email y compras.\n",
    "            \n",
    "            return f'El nuevo cliente {nombre} se ha agregado a nuestra base de datos de clientes'\n",
    "        else: # Si el cliente ya existe.\n",
    "            datos = self.clientes[nombre] #Se obtienen los datos del cliente de su diccionario utilizando el nombre que nos ha facilitadp.\n",
    "            lista_compra = datos.get(\"compras\", []) #Se obtiene la lista de compra, si existe, o se proporciona una lista vacía.\n",
    "            return lista_compra #Se devuelve la lista de compra si es que existe, de lo contrario, la devuelve vacía.\n",
    "        \n",
    "# El método undécimo consiste en mostrar la lista de clientes registrados\n",
    "    def ver_clientes(self):\n",
    "        clientes_registrados = [] #Se crea una lista vacía para almacenar la información de los clientes.\n",
    "\n",
    "        for nombre, datos in self.clientes.items(): #Se hace un bucle que itera por cada uno de los clientes.\n",
    "            nombre_cliente = nombre #Se crea esta variable para almacenar el nombre.\n",
    "            email_cliente = datos[\"email\"] if \"email\" in datos else \"Correo no especificado\" #Se verifica si el cliente tiene o no email y de eso depende el mensaje a obtener.\n",
    "            compras_cliente = datos[\"compras\"] if \"compras\" in datos else [] # Se comprueba si tiene historial de compras, si no se crea una lista vacía.\n",
    "\n",
    "            cliente_info = {\"Nombre\": nombre_cliente, \"Email\": email_cliente, \"Compras\": compras_cliente} #Esta es la información del cliente\n",
    "        \n",
    "            clientes_registrados.append(cliente_info) #La información de cliente se agrega a la de clientes registrados.\n",
    "\n",
    "        return clientes_registrados\n",
    "\n",
    "#El método duodécimo consiste en registrar una compra de un cliente y agregar la compra al historial de ventas.\n",
    "\n",
    "    def registrar_compra(self, nombre_cliente, carrito):\n",
    "        if nombre_cliente in self.clientes: #Se tiene que dar la condición de que el cliente esté en el registro de nuestra tienda.\n",
    "            cliente = self.clientes[nombre_cliente] #Si el cliente existe\n",
    "            historial_compras = cliente[\"compras\"] #Podemos acceder a su historial de compras.\n",
    "\n",
    "            total_compra = sum(producto[\"precio\"] * producto[\"cantidad\"] for producto in carrito.values()) #se hace sumando el costo de cada producto en el carrito del cliente. El carrito se proporciona como un diccionario donde las claves son los nombres de los productos \n",
    "                                                                                                           # y los valores son diccionarios que contienen el precio y la cantidad de cada producto.\n",
    "            compra = {\"productos\": carrito, \"total\": total_compra} # En este diccionario se almacena: los prodcutos totales que hay en el carrito y el coste total-\n",
    "            historial_compras.append(compra) # La compra se agrega al historial de compra.\n",
    "            self.ventas_totales += total_compra #Se actualiza el valor sumando el total de la compra la valor existente,\n",
    "            return f\"La compra de {nombre_cliente} se ha realizado con éxito. Total de la compra: {total_compra} euros\"\n",
    "        else:\n",
    "            return f\"No se puede realizar la compra porque el cliente {nombre_cliente} no está en el resgistro de la tienda.\" #En el caso de que el cliente no exista.\n",
    "\n",
    "#El método decimotercero consiste en mostrar el historial de compras de un cliente.\n",
    "\n",
    "    def ver_compras_cliente(self, nombre_cliente):\n",
    "        if nombre_cliente in self.clientes:#Comprobamos que el cliente existe.\n",
    "            cliente = self.clientes[nombre_cliente]  #Se verifica en esta línea que el cliente existe.\n",
    "            historial_compras = cliente.get(\"compras\", []) #Se utiliza get para que no se den errores en el caso de que el cliente no haya realizado compras.\n",
    "            \n",
    "            print(f\"Historial de compras del cliente {nombre_cliente}):\")\n",
    "        \n",
    "            for i in range(len(historial_compras)): #Se hace un bucle para ver el hitorial de compras. Recorre desde el rango 0 hasta la longitud de la lista de historial_compras que es -1.\n",
    "                compra = historial_compras[i] #El índice i se usa para llegar a acada compra por su posición en la lista.\n",
    "                print(f\"Compra {i + 1}:\") #el valor 1 se incrementa  en uno para que sea compra 1, compra2, etc. \n",
    "                for producto, detalles in compra[\"productos\"].items(): #Aquí se muestran los detalles de los productos comprados.\n",
    "                    print(f\"Producto: {producto}, Precio: {detalles['precio']}€, Cantidad: {detalles['cantidad']}\")\n",
    "                print(f\"Total de la compra: {compra['total']}euros\") #Se muestra el total de la compra\n",
    "        else:\n",
    "             print(f\"El cliente {nombre_cliente} no está en el diccionario.\") #Si el cliente no está en el registro.\n",
    "\n",
    "#El método decimocuarto consiste en mostrar las ventas totales de la tienda.\n",
    "\n",
    "    def calcular_ventas_totales(self):\n",
    "        ventas_totales = 0.0\n",
    "        for cliente in self.clientes.values(): #Se itera a través de los valores del diccionario. Cada valor representa la información de un cliente.\n",
    "            for compra in cliente.get(\"compras\", []): #Se itera a través de las compras del cliente. Y el get se usa para obtener la lista de comrpas, en caso de no haber realizado compras, se proporciona una lista vacía para evitar errores.\n",
    "                ventas_totales += compra[\"total\"] #Se suma el valor de la calve \"total\" de cada compra a la cantidad total de ventas. Esto se acumula en la variable ventas_totales.\n",
    "\n",
    "        print(f\"Ventas totales de la tienda: {ventas_totales}€\") #Se imprimen las ventas totales de la tienda.\n"
   ]
  },
  {
   "cell_type": "code",
   "execution_count": 37,
   "metadata": {},
   "outputs": [],
   "source": [
    "#Creamos una instancia de la clase TiendaOnline\n",
    "\n",
    "mi_tienda_online = TiendaOnline (\"Fashion Fusion\")"
   ]
  },
  {
   "cell_type": "code",
   "execution_count": 39,
   "metadata": {},
   "outputs": [
    {
     "name": "stdout",
     "output_type": "stream",
     "text": [
      "El producto camisa se ha actualizado en nuestro inventario con éxito\n",
      "El producto pantalón se ha actualizado en nuestro inventario con éxito\n",
      "El producto zapatos se ha actualizado en nuestro inventario con éxito\n",
      "El producto camiseta se ha actualizado en nuestro inventario con éxito\n"
     ]
    }
   ],
   "source": [
    "\n",
    "#Llamando al método uno agregar productos\n",
    "mi_tienda_online.agregar_producto_inventario(\"camisa\", 20, 40)\n",
    "mi_tienda_online.agregar_producto_inventario(\"pantalón\", 30, 30)\n",
    "mi_tienda_online.agregar_producto_inventario(\"zapatos\", 50, 40)\n",
    "mi_tienda_online.agregar_producto_inventario(\"camiseta\", 20, 50)"
   ]
  },
  {
   "cell_type": "code",
   "execution_count": 40,
   "metadata": {},
   "outputs": [
    {
     "name": "stdout",
     "output_type": "stream",
     "text": [
      "Ya puede consultar el inventario de nuestra tienda\n",
      "Nombre: camisa, Precio: 20, Cantidad: 80\n",
      "Nombre: pantalón, Precio: 30, Cantidad: 60\n",
      "Nombre: zapatos, Precio: 50, Cantidad: 80\n",
      "Nombre: camiseta, Precio: 20, Cantidad: 100\n"
     ]
    }
   ],
   "source": [
    "\n",
    "#Llamando al método dos ver_inventario\n",
    "mi_tienda_online.ver_inventario() \n"
   ]
  },
  {
   "cell_type": "code",
   "execution_count": 41,
   "metadata": {},
   "outputs": [
    {
     "data": {
      "text/plain": [
       "'Nombre: camisa, Precio: 20, Cantidad: 80'"
      ]
     },
     "execution_count": 41,
     "metadata": {},
     "output_type": "execute_result"
    }
   ],
   "source": [
    "#llamando al método tres buscar_producto\n",
    "\n",
    "mi_tienda_online.buscar_producto(\"traje\")\n",
    "mi_tienda_online.buscar_producto(\"reloj\")\n",
    "mi_tienda_online.buscar_producto (\"camisa\") #Este es el producto que tenemos en nuestra tienda."
   ]
  },
  {
   "cell_type": "code",
   "execution_count": 42,
   "metadata": {},
   "outputs": [
    {
     "data": {
      "text/plain": [
       "'el articulo reloj no apaerece reflejado en nuestro inventario'"
      ]
     },
     "execution_count": 42,
     "metadata": {},
     "output_type": "execute_result"
    }
   ],
   "source": [
    "#Llamando al método cuatro actualizar_stock\n",
    "mi_tienda_online.actualizar_stock (\"reloj\", 7) #cuando no hay un producto"
   ]
  },
  {
   "cell_type": "code",
   "execution_count": 22,
   "metadata": {},
   "outputs": [
    {
     "data": {
      "text/plain": [
       "'se ha actualizado con éxito el stock del artículo camisa y contamos con 44'"
      ]
     },
     "execution_count": 22,
     "metadata": {},
     "output_type": "execute_result"
    }
   ],
   "source": [
    "#Llamando al método cuatro actualizar_stock\n",
    "mi_tienda_online.actualizar_stock(\"camisa\", 4) #cuando existe el producto se actualiza la cantidad-"
   ]
  },
  {
   "cell_type": "code",
   "execution_count": 23,
   "metadata": {},
   "outputs": [
    {
     "name": "stdout",
     "output_type": "stream",
     "text": [
      "Hemos eliminado el artículo camisa de nuestro inventario\n"
     ]
    }
   ],
   "source": [
    "#Llamando al método cinco eliminar un producto\n",
    "mi_tienda_online.eliminar_producto(\"camisa\") #me eliminó este producto de la tienda."
   ]
  },
  {
   "cell_type": "code",
   "execution_count": 24,
   "metadata": {},
   "outputs": [
    {
     "name": "stdout",
     "output_type": "stream",
     "text": [
      "El producto pijama no se encuentra en el inventario\n"
     ]
    }
   ],
   "source": [
    "#Llamando al método cinco eliminar un producto\n",
    "mi_tienda_online.eliminar_producto (\"pijama\") #no me eliminó el producto porque no existía en la tienda."
   ]
  },
  {
   "cell_type": "code",
   "execution_count": 43,
   "metadata": {},
   "outputs": [
    {
     "data": {
      "text/plain": [
       "'El valor total del inventario es de 9400 euros'"
      ]
     },
     "execution_count": 43,
     "metadata": {},
     "output_type": "execute_result"
    }
   ],
   "source": [
    "#Llamando al método seis calcular_valor_total\n",
    "mi_tienda_online.calcular_valor_total() # Nota: cada vez que lo he ejecuatdo se ha ido sumando más y más el valor del inventario."
   ]
  },
  {
   "cell_type": "code",
   "execution_count": null,
   "metadata": {},
   "outputs": [],
   "source": [
    "#El método siete buscar_producto_regex\n",
    "#No he podido hacer este código."
   ]
  },
  {
   "cell_type": "code",
   "execution_count": 26,
   "metadata": {},
   "outputs": [
    {
     "name": "stdout",
     "output_type": "stream",
     "text": [
      "Ya puede consultar el inventario de nuestra tienda\n",
      "Nombre: pantalón, Precio: 30, Cantidad: 30\n",
      "Nombre: zapatos, Precio: 50, Cantidad: 40\n",
      "Nombre: camiseta, Precio: 20, Cantidad: 50\n",
      "El producto camisa no se encuentra en nuestro inventario. Por favor, seleccione otro producto.\n",
      "4 unidades de zapatos agregadas al carrito.\n",
      "Por favor, seleccione 'S' si su intención es comprar o 'N' para salir.\n",
      "El producto n no se encuentra en nuestro inventario. Por favor, seleccione otro producto.\n",
      "Resumen de la compra:\n",
      "zapatos: 4 unidades a $50\n",
      "El importe total de la compra es de 200 euros\n"
     ]
    }
   ],
   "source": [
    "#Llamando al método ocho realizar_compra\n",
    "mi_tienda_online.realizar_compra ()"
   ]
  },
  {
   "cell_type": "code",
   "execution_count": 44,
   "metadata": {},
   "outputs": [
    {
     "data": {
      "text/plain": [
       "'Ha realizado el pago correctamente. Su cambio es de 0.0 euros'"
      ]
     },
     "execution_count": 44,
     "metadata": {},
     "output_type": "execute_result"
    }
   ],
   "source": [
    "#Llamando al método nueve procesar_pago\n",
    "mi_tienda_online.procesar_pago() #Introduzco la cantidad exacta y no obtengo cambio."
   ]
  },
  {
   "cell_type": "code",
   "execution_count": 45,
   "metadata": {},
   "outputs": [
    {
     "data": {
      "text/plain": [
       "'El nuevo cliente Cristina se ha agregado a nuestra base de datos de clientes'"
      ]
     },
     "execution_count": 45,
     "metadata": {},
     "output_type": "execute_result"
    }
   ],
   "source": [
    "#Llamando al método diez agregar_cliente\n",
    "mi_tienda_online.agregar_cliente (\"Juan\", \"japr@gmail.com\")\n",
    "mi_tienda_online.agregar_cliente (\"Roberto\", \"robert@gmail.com\")\n",
    "mi_tienda_online.agregar_cliente (\"Andrea\", \"andrea@gmail,com\")\n",
    "mi_tienda_online.agregar_cliente (\"Cristina\", \"Cristina@gmail,com\") #Debe haber un error porque solo me aparece la última agragada."
   ]
  },
  {
   "cell_type": "code",
   "execution_count": 46,
   "metadata": {},
   "outputs": [
    {
     "data": {
      "text/plain": [
       "[{'Nombre': 'Juan', 'Email': 'japr@gmail.com', 'Compras': []},\n",
       " {'Nombre': 'Roberto', 'Email': 'robert@gmail.com', 'Compras': []},\n",
       " {'Nombre': 'Andrea', 'Email': 'andrea@gmail,com', 'Compras': []},\n",
       " {'Nombre': 'Cristina', 'Email': 'Cristina@gmail,com', 'Compras': []}]"
      ]
     },
     "execution_count": 46,
     "metadata": {},
     "output_type": "execute_result"
    }
   ],
   "source": [
    "#Llamando al método once ver_clientes \n",
    "mi_tienda_online.ver_clientes() "
   ]
  },
  {
   "cell_type": "code",
   "execution_count": 47,
   "metadata": {},
   "outputs": [
    {
     "data": {
      "text/plain": [
       "'La compra de Juan se ha realizado con éxito. Total de la compra: 30 euros'"
      ]
     },
     "execution_count": 47,
     "metadata": {},
     "output_type": "execute_result"
    }
   ],
   "source": [
    "#Llaamdo al método doce registrar_compra\n",
    "carrito_Cristina = {\"pantalón\": {\"precio\":30, \"cantidad\": 3}, \"camiseta\":{\"precio\": 10, \"cantidad\":5}}\n",
    "carrito_Juan = {\"camisa\": {\"precio\": 15, \"cantidad\": 2}}\n",
    "mi_tienda_online.registrar_compra(\"Cristina\", carrito_Cristina)\n",
    "mi_tienda_online.registrar_compra (\"Juan\",carrito_Juan )"
   ]
  },
  {
   "cell_type": "code",
   "execution_count": 48,
   "metadata": {},
   "outputs": [
    {
     "name": "stdout",
     "output_type": "stream",
     "text": [
      "Historial de compras del cliente Cristina):\n",
      "Compra 1:\n",
      "Producto: pantalón, Precio: 30€, Cantidad: 3\n",
      "Producto: camiseta, Precio: 10€, Cantidad: 5\n",
      "Total de la compra: 140euros\n",
      "El cliente Marcos no está en el diccionario.\n",
      "Historial de compras del cliente Juan):\n",
      "Compra 1:\n",
      "Producto: camisa, Precio: 15€, Cantidad: 2\n",
      "Total de la compra: 30euros\n"
     ]
    }
   ],
   "source": [
    "#Llamando al método trece ver_compras_clientes\n",
    "mi_tienda_online.ver_compras_cliente (\"Cristina\")\n",
    "\n",
    "mi_tienda_online.ver_compras_cliente (\"Marcos\")\n",
    "\n",
    "mi_tienda_online.ver_compras_cliente (\"Juan\")\n"
   ]
  },
  {
   "cell_type": "code",
   "execution_count": 371,
   "metadata": {},
   "outputs": [
    {
     "name": "stdout",
     "output_type": "stream",
     "text": [
      "Ventas totales de la tienda: 170.0€\n"
     ]
    }
   ],
   "source": [
    "#Llamando al método catorce calcular_ventas_totales\n",
    "mi_tienda_online.calcular_ventas_totales()"
   ]
  },
  {
   "cell_type": "code",
   "execution_count": null,
   "metadata": {},
   "outputs": [],
   "source": [
    "# El séptimo método consiste en buscar productos en el inventario que coincidan con un patrón de búsqueda en formato regex.\n",
    "\n",
    "import re\n",
    "\n",
    "def buscar_producto_regex (self, patron):\n",
    "    for producto in \n",
    "      "
   ]
  }
 ],
 "metadata": {
  "kernelspec": {
   "display_name": "base",
   "language": "python",
   "name": "python3"
  },
  "language_info": {
   "codemirror_mode": {
    "name": "ipython",
    "version": 3
   },
   "file_extension": ".py",
   "mimetype": "text/x-python",
   "name": "python",
   "nbconvert_exporter": "python",
   "pygments_lexer": "ipython3",
   "version": "3.9.7"
  }
 },
 "nbformat": 4,
 "nbformat_minor": 2
}
